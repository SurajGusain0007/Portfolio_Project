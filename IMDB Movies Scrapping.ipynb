{
 "cells": [
  {
   "cell_type": "markdown",
   "id": "a1bb1205",
   "metadata": {},
   "source": [
    "# Scraping Multiples pages of IMDB at a time to fetch top 1000 movies data."
   ]
  },
  {
   "cell_type": "markdown",
   "id": "7eb92277",
   "metadata": {},
   "source": [
    "Importing the libraries needed \n"
   ]
  },
  {
   "cell_type": "code",
   "execution_count": 2,
   "id": "971a509e",
   "metadata": {},
   "outputs": [],
   "source": [
    "from bs4 import BeautifulSoup\n",
    "import requests\n",
    "import numpy as np\n",
    "from time import sleep\n",
    "from random import randint\n",
    "import pandas as pd"
   ]
  },
  {
   "cell_type": "markdown",
   "id": "5b057083",
   "metadata": {},
   "source": [
    "Declaring the headers \n"
   ]
  },
  {
   "cell_type": "code",
   "execution_count": 3,
   "id": "a9a8286e",
   "metadata": {},
   "outputs": [],
   "source": [
    "headers = {\"Accept-Language\": \"en-US,en;q=0.5\"}\n"
   ]
  },
  {
   "cell_type": "markdown",
   "id": "78d1adc7",
   "metadata": {},
   "source": [
    "Declaring the list of empty variables, So that we can append the data overall\n"
   ]
  },
  {
   "cell_type": "code",
   "execution_count": 4,
   "id": "32969560",
   "metadata": {},
   "outputs": [],
   "source": [
    "movie_name=[]\n",
    "year=[]\n",
    "time=[]\n",
    "movie_ratings=[]\n",
    "genre_movies=[]\n",
    "director_name=[]     \n",
    "votes=[]\n",
    "gross=[]\n"
   ]
  },
  {
   "cell_type": "markdown",
   "id": "39063414",
   "metadata": {},
   "source": [
    "Creating an array of values and passing it in the url for dynamic webpages\n"
   ]
  },
  {
   "cell_type": "code",
   "execution_count": 5,
   "id": "7fe46488",
   "metadata": {},
   "outputs": [],
   "source": [
    "pages=np.arange(1,1000,50)"
   ]
  },
  {
   "cell_type": "markdown",
   "id": "7e50728c",
   "metadata": {},
   "source": [
    "The whole core of the script\n"
   ]
  },
  {
   "cell_type": "code",
   "execution_count": 6,
   "id": "f11d09cc",
   "metadata": {},
   "outputs": [],
   "source": [
    "for i in pages:\n",
    "    page=requests.get(\"https://www.imdb.com/search/title/?title_type=feature&num_votes=25000,&genres=action&sort=user_rating,desc&start=\"+str(i)+\"&ref_=adv_nxt\")\n",
    "    page.raise_for_status()\n",
    "    soup = BeautifulSoup(page.text, 'html.parser')\n",
    "    movie_data = soup.findAll('div', attrs = {'class': 'lister-item mode-advanced'})\n",
    "    sleep(randint(2,8))\n",
    "    for store in movie_data:\n",
    "        name = store.h3.a.text\n",
    "        movie_name.append(name)\n",
    "        \n",
    "        year_of_release = store.h3.find('span', class_ = \"lister-item-year text-muted unbold\").text.strip(\"()\")\n",
    "        year.append(year_of_release)\n",
    "        \n",
    "        runtime = store.p.find(\"span\", class_ = 'runtime').text\n",
    "        time.append(runtime)\n",
    "        \n",
    "        genre_movie=store.p.find(\"span\", class_ = 'genre').text.replace('\\n', '')\n",
    "        genre_movies.append(genre_movie)\n",
    "        \n",
    "        ratings=store.find(\"div\",class_=\"inline-block ratings-imdb-rating\").text.replace('\\n', '')\n",
    "        movie_ratings.append(ratings)\n",
    "        \n",
    "        \n",
    "        directors = store.find('p',class_=\"\").a.text\n",
    "        director_name.append(directors)\n",
    "         \n",
    "        value = store.find_all('span', attrs = {'name': \"nv\"})\n",
    "        \n",
    "        vote = value[0].text\n",
    "        votes.append(vote)\n",
    "        \n",
    "        grosses = value[1].text if len(value)>1 else '%^%^%^'\n",
    "        gross.append(grosses)\n",
    "        \n",
    "       \n",
    "        \n",
    "\n",
    "\n",
    "         \n",
    " \n",
    "\n",
    "\n",
    "    \n"
   ]
  },
  {
   "cell_type": "code",
   "execution_count": 9,
   "id": "5c94b9cd",
   "metadata": {},
   "outputs": [
    {
     "data": {
      "text/html": [
       "<div>\n",
       "<style scoped>\n",
       "    .dataframe tbody tr th:only-of-type {\n",
       "        vertical-align: middle;\n",
       "    }\n",
       "\n",
       "    .dataframe tbody tr th {\n",
       "        vertical-align: top;\n",
       "    }\n",
       "\n",
       "    .dataframe thead th {\n",
       "        text-align: right;\n",
       "    }\n",
       "</style>\n",
       "<table border=\"1\" class=\"dataframe\">\n",
       "  <thead>\n",
       "    <tr style=\"text-align: right;\">\n",
       "      <th></th>\n",
       "      <th>Movie</th>\n",
       "      <th>years</th>\n",
       "      <th>Runtime</th>\n",
       "      <th>Ratings</th>\n",
       "      <th>Genre</th>\n",
       "      <th>Director</th>\n",
       "      <th>votes</th>\n",
       "      <th>Gross</th>\n",
       "    </tr>\n",
       "  </thead>\n",
       "  <tbody>\n",
       "    <tr>\n",
       "      <th>0</th>\n",
       "      <td>The Dark Knight</td>\n",
       "      <td>2008</td>\n",
       "      <td>152 min</td>\n",
       "      <td>9.0</td>\n",
       "      <td>Action, Crime, Drama</td>\n",
       "      <td>Christopher Nolan</td>\n",
       "      <td>2,593,495</td>\n",
       "      <td>$534.86M</td>\n",
       "    </tr>\n",
       "    <tr>\n",
       "      <th>1</th>\n",
       "      <td>The Lord of the Rings: The Return of the King</td>\n",
       "      <td>2003</td>\n",
       "      <td>201 min</td>\n",
       "      <td>9.0</td>\n",
       "      <td>Action, Adventure, Drama</td>\n",
       "      <td>Peter Jackson</td>\n",
       "      <td>1,798,625</td>\n",
       "      <td>$377.85M</td>\n",
       "    </tr>\n",
       "  </tbody>\n",
       "</table>\n",
       "</div>"
      ],
      "text/plain": [
       "                                           Movie years  Runtime Ratings  \\\n",
       "0                                The Dark Knight  2008  152 min     9.0   \n",
       "1  The Lord of the Rings: The Return of the King  2003  201 min     9.0   \n",
       "\n",
       "                                  Genre           Director      votes  \\\n",
       "0      Action, Crime, Drama              Christopher Nolan  2,593,495   \n",
       "1  Action, Adventure, Drama                  Peter Jackson  1,798,625   \n",
       "\n",
       "      Gross  \n",
       "0  $534.86M  \n",
       "1  $377.85M  "
      ]
     },
     "execution_count": 9,
     "metadata": {},
     "output_type": "execute_result"
    }
   ],
   "source": [
    "movies_list=pd.DataFrame({\"Movie\":movie_name,\"years\":year,'Runtime':time,'Ratings':movie_ratings,'Genre':genre_movies,'Director':director_name,'votes':votes,'Gross':gross})\n",
    "movies_list.head(2)"
   ]
  },
  {
   "cell_type": "code",
   "execution_count": 10,
   "id": "e800aa0d",
   "metadata": {},
   "outputs": [],
   "source": [
    "# #saving the data in excel format\n",
    "movies_list.to_excel(\"Top 1000 IMDb movies.xlsx\")\n",
    "\n",
    "# #If you want to save the data in csv format\n",
    "movies_list.to_csv(\"Top 1000 IMDb movies.csv\")\n"
   ]
  }
 ],
 "metadata": {
  "kernelspec": {
   "display_name": "Python 3 (ipykernel)",
   "language": "python",
   "name": "python3"
  },
  "language_info": {
   "codemirror_mode": {
    "name": "ipython",
    "version": 3
   },
   "file_extension": ".py",
   "mimetype": "text/x-python",
   "name": "python",
   "nbconvert_exporter": "python",
   "pygments_lexer": "ipython3",
   "version": "3.9.7"
  }
 },
 "nbformat": 4,
 "nbformat_minor": 5
}
